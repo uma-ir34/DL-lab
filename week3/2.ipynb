{
 "cells": [
  {
   "cell_type": "code",
   "execution_count": 1,
   "id": "99f046a6",
   "metadata": {},
   "outputs": [
    {
     "name": "stdout",
     "output_type": "stream",
     "text": [
      "Epoch 1:\n",
      "  w.grad: -174.0\n",
      "  b.grad: -52.0\n",
      "  Updated w: 1.1740000247955322\n",
      "  Updated b: 1.0520000457763672\n",
      "  Loss: 757.0\n",
      "========================================\n",
      "Epoch 2:\n",
      "  w.grad: -170.20799255371094\n",
      "  b.grad: -50.85199737548828\n",
      "  Updated w: 1.344208002090454\n",
      "  Updated b: 1.1028521060943604\n",
      "  Loss: 724.3797607421875\n",
      "========================================\n"
     ]
    }
   ],
   "source": [
    "import torch\n",
    "\n",
    "\n",
    "x = torch.tensor([2.0, 4.0]).view(-1, 1)  \n",
    "y = torch.tensor([20.0, 40.0]).view(-1, 1)  \n",
    "\n",
    "\n",
    "w = torch.tensor(1.0, requires_grad=True)\n",
    "b = torch.tensor(1.0, requires_grad=True)\n",
    "\n",
    "\n",
    "learning_rate = 0.001\n",
    "\n",
    "epochs = 2\n",
    "\n",
    "for epoch in range(epochs):\n",
    "    \n",
    "    y_pred = x * w + b\n",
    "    \n",
    "    diff = y_pred - y\n",
    "    \n",
    "    \n",
    "    loss = torch.mean(diff ** 2)\n",
    "    \n",
    "   \n",
    "    if epoch > 0:\n",
    "        w.grad.zero_()\n",
    "        b.grad.zero_()\n",
    "    \n",
    "    \n",
    "    loss.backward()\n",
    "    \n",
    "   \n",
    "    print(f\"Epoch {epoch + 1}:\")\n",
    "    print(f\"  w.grad: {w.grad.item()}\")\n",
    "    print(f\"  b.grad: {b.grad.item()}\")\n",
    "    \n",
    "    \n",
    "    with torch.no_grad():\n",
    "        w -= learning_rate * w.grad\n",
    "        b -= learning_rate * b.grad\n",
    "        \n",
    "   \n",
    "    print(f\"  Updated w: {w.item()}\")\n",
    "    print(f\"  Updated b: {b.item()}\")\n",
    "    print(f\"  Loss: {loss.item()}\")\n",
    "    print(\"=\"*40)\n"
   ]
  },
  {
   "cell_type": "code",
   "execution_count": null,
   "id": "c69cf8ca",
   "metadata": {},
   "outputs": [],
   "source": []
  }
 ],
 "metadata": {
  "kernelspec": {
   "display_name": "Python (env)",
   "language": "python",
   "name": "env"
  },
  "language_info": {
   "codemirror_mode": {
    "name": "ipython",
    "version": 3
   },
   "file_extension": ".py",
   "mimetype": "text/x-python",
   "name": "python",
   "nbconvert_exporter": "python",
   "pygments_lexer": "ipython3",
   "version": "3.12.3"
  }
 },
 "nbformat": 4,
 "nbformat_minor": 5
}
