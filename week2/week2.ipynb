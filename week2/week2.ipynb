{
 "cells": [
  {
   "cell_type": "code",
   "execution_count": 1,
   "id": "caefa8e7",
   "metadata": {},
   "outputs": [
    {
     "name": "stdout",
     "output_type": "stream",
     "text": [
      "dz/da = 64.0\n"
     ]
    }
   ],
   "source": [
    "import torch\n",
    "#1\n",
    "\n",
    "a = torch.tensor(2.0, requires_grad=True)  \n",
    "b = torch.tensor(3.0, requires_grad=True)  \n",
    "\n",
    "\n",
    "x = 2 * a + 3 * b\n",
    "y = 5 * a**2 + 3 * b**3\n",
    "z = 2 * x + 3 * y\n",
    "\n",
    "\n",
    "z.backward()  \n",
    "\n",
    "\n",
    "dz_da = a.grad\n",
    "print(f\"dz/da = {dz_da}\")\n"
   ]
  },
  {
   "cell_type": "code",
   "execution_count": 6,
   "id": "89879228",
   "metadata": {},
   "outputs": [
    {
     "name": "stdout",
     "output_type": "stream",
     "text": [
      "gradient w is  1.0\n",
      "Analytical Gradient dw: 1.0\n"
     ]
    }
   ],
   "source": [
    "#Q2\n",
    "x = torch.tensor(1.0,requires_grad=True)\n",
    "w = torch.tensor(2.0,requires_grad=True)\n",
    "b = torch.tensor(3.0,requires_grad=True)\n",
    "u = w*x\n",
    "v = b + u\n",
    "a = torch.maximum(torch.tensor(0.0), v) \n",
    "a.backward()\n",
    "print(\"gradient w is \",w.grad.item())\n",
    "analytical_gradient = x if v.item() > 0 else 0\n",
    "print(\"Analytical Gradient dw:\", analytical_gradient.item())"
   ]
  },
  {
   "cell_type": "code",
   "execution_count": 7,
   "id": "9b9cecf0",
   "metadata": {},
   "outputs": [
    {
     "name": "stdout",
     "output_type": "stream",
     "text": [
      "Gradient da/dw (PyTorch): 0.0066480329260230064\n",
      "Analytical Gradient da/dw: 0.0066480329260230064\n"
     ]
    }
   ],
   "source": [
    "#Q3\n",
    "x = torch.tensor(1.0,requires_grad=True)\n",
    "w = torch.tensor(2.0,requires_grad=True)\n",
    "b = torch.tensor(3.0,requires_grad=True)\n",
    "u = w*x\n",
    "v = b + u\n",
    "a = torch.sigmoid(v)\n",
    "a.backward()\n",
    "\n",
    "print(\"Gradient da/dw (PyTorch):\", w.grad.item())\n",
    "\n",
    "# Analytical gradient\n",
    "sigmoid_v = torch.sigmoid(v)\n",
    "analytical_gradient = sigmoid_v * (1 - sigmoid_v) * x\n",
    "print(\"Analytical Gradient da/dw:\", analytical_gradient.item())"
   ]
  },
  {
   "cell_type": "code",
   "execution_count": 4,
   "id": "1823beee",
   "metadata": {},
   "outputs": [
    {
     "name": "stdout",
     "output_type": "stream",
     "text": [
      "Computed Gradient (from PyTorch): -0.09744400531053543\n",
      "Analytical Gradient: -0.09744400362337259\n"
     ]
    }
   ],
   "source": [
    "import torch\n",
    "#4\n",
    "# Define the variable with requires_grad=True to track gradients\n",
    "x = torch.tensor(1.0, requires_grad=True)\n",
    "\n",
    "# Define the function f(x) = exp(-x^2 - 2x - sin(x))\n",
    "f = torch.exp(-x**2 - 2*x - torch.sin(x))\n",
    "\n",
    "# Compute the gradient using PyTorch\n",
    "f.backward()\n",
    "\n",
    "# Get the computed gradient (df/dx)\n",
    "computed_gradient = x.grad.item()\n",
    "\n",
    "# Print the computed gradient\n",
    "print(\"Computed Gradient (from PyTorch):\", computed_gradient)\n",
    "\n",
    "# Compute the analytical gradient manually for comparison\n",
    "import math\n",
    "\n",
    "# Compute the analytical gradient at x = 1.0\n",
    "x_val = 1.0\n",
    "analytical_gradient = math.exp(-x_val**2 - 2*x_val - math.sin(x_val)) * (-2*x_val - 2 - math.cos(x_val))\n",
    "\n",
    "# Print the analytical gradient\n",
    "print(\"Analytical Gradient:\", analytical_gradient)\n"
   ]
  },
  {
   "cell_type": "code",
   "execution_count": 5,
   "id": "c1924d55",
   "metadata": {},
   "outputs": [
    {
     "name": "stdout",
     "output_type": "stream",
     "text": [
      "Computed Gradient (from PyTorch): 61.0\n",
      "Analytical Gradient: 61.0\n"
     ]
    }
   ],
   "source": [
    "import torch\n",
    "#5\n",
    "# Define the variable x with requires_grad=True to compute gradients\n",
    "x = torch.tensor(1.0, requires_grad=True)\n",
    "\n",
    "# Define the function y = 8x^4 + 3x^3 + 7x^2 + 6x + 3\n",
    "y = 8*x**4 + 3*x**3 + 7*x**2 + 6*x + 3\n",
    "\n",
    "# Compute the gradient of y with respect to x\n",
    "y.backward()\n",
    "\n",
    "# Get the computed gradient (dy/dx)\n",
    "computed_gradient = x.grad.item()\n",
    "\n",
    "# Print the computed gradient\n",
    "print(\"Computed Gradient (from PyTorch):\", computed_gradient)\n",
    "\n",
    "# Compute the analytical gradient manually for comparison\n",
    "analytical_gradient = 32*x.item()**3 + 9*x.item()**2 + 14*x.item() + 6\n",
    "\n",
    "# Print the analytical gradient\n",
    "print(\"Analytical Gradient:\", analytical_gradient)\n"
   ]
  },
  {
   "cell_type": "code",
   "execution_count": 8,
   "id": "73329e93",
   "metadata": {},
   "outputs": [
    {
     "name": "stdout",
     "output_type": "stream",
     "text": [
      "Gradient 0.026604030281305313\n",
      "Analytical Gradient df/dy: 0.02660400979220867\n"
     ]
    }
   ],
   "source": [
    "#Q6\n",
    "x = torch.tensor(1.0, requires_grad=True)\n",
    "y = torch.tensor(2.0, requires_grad=True)\n",
    "z = torch.tensor(3.0, requires_grad=True)\n",
    "a = 2 * x * z\n",
    "b = torch.sin(y)\n",
    "c = a / b\n",
    "d = 1 + c\n",
    "e = torch.log(d)\n",
    "f = torch.tanh(e)\n",
    "f.backward()\n",
    "print(\"Gradient\",y.grad.item())\n",
    "sech_e = torch.cosh(e) ** -2\n",
    "analytical_gradient = sech_e * (1 / d) * (-2 * x * z * torch.cos(y) / (torch.sin(y) ** 2))\n",
    "\n",
    "print(\"Analytical Gradient df/dy:\", analytical_gradient.item())"
   ]
  },
  {
   "cell_type": "code",
   "execution_count": null,
   "id": "28de2afe",
   "metadata": {},
   "outputs": [],
   "source": []
  }
 ],
 "metadata": {
  "kernelspec": {
   "display_name": "Python (env)",
   "language": "python",
   "name": "env"
  },
  "language_info": {
   "codemirror_mode": {
    "name": "ipython",
    "version": 3
   },
   "file_extension": ".py",
   "mimetype": "text/x-python",
   "name": "python",
   "nbconvert_exporter": "python",
   "pygments_lexer": "ipython3",
   "version": "3.12.3"
  }
 },
 "nbformat": 4,
 "nbformat_minor": 5
}
