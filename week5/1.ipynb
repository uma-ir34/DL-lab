{
 "cells": [
  {
   "cell_type": "code",
   "execution_count": 2,
   "id": "6e6f87f7",
   "metadata": {},
   "outputs": [],
   "source": [
    "import torch\n"
   ]
  },
  {
   "cell_type": "code",
   "execution_count": 3,
   "id": "13a07b5f",
   "metadata": {},
   "outputs": [],
   "source": [
    "import torch.nn.functional as F"
   ]
  },
  {
   "cell_type": "code",
   "execution_count": 4,
   "id": "771409bb",
   "metadata": {},
   "outputs": [],
   "source": [
    "img= torch.rand(6,6)"
   ]
  },
  {
   "cell_type": "code",
   "execution_count": 5,
   "id": "ec37e31f",
   "metadata": {},
   "outputs": [
    {
     "name": "stdout",
     "output_type": "stream",
     "text": [
      "tensor([[0.2649, 0.4207, 0.0465, 0.3901, 0.1317, 0.3207],\n",
      "        [0.0573, 0.3243, 0.7804, 0.3550, 0.0449, 0.0129],\n",
      "        [0.0596, 0.0374, 0.0782, 0.6402, 0.5166, 0.7601],\n",
      "        [0.7272, 0.0642, 0.4862, 0.7736, 0.0842, 0.8096],\n",
      "        [0.0716, 0.2738, 0.0382, 0.1602, 0.7472, 0.2935],\n",
      "        [0.8442, 0.3570, 0.9965, 0.7091, 0.1214, 0.0155]])\n"
     ]
    }
   ],
   "source": [
    "print (img)"
   ]
  },
  {
   "cell_type": "code",
   "execution_count": 7,
   "id": "bfd8c3f8",
   "metadata": {},
   "outputs": [
    {
     "name": "stdout",
     "output_type": "stream",
     "text": [
      "torch.Size([1, 1, 6, 6])\n"
     ]
    }
   ],
   "source": [
    "img = img.unsqueeze(dim=0).unsqueeze(dim=0)\n",
    "print(img.shape)"
   ]
  },
  {
   "cell_type": "code",
   "execution_count": 8,
   "id": "fb94b3ad",
   "metadata": {},
   "outputs": [],
   "source": [
    "kernel = torch.ones(3,3)\n",
    "kernel = kernel.unsqueeze(dim=0).unsqueeze(dim = 0)"
   ]
  },
  {
   "cell_type": "code",
   "execution_count": 10,
   "id": "867bfce5",
   "metadata": {},
   "outputs": [
    {
     "name": "stdout",
     "output_type": "stream",
     "text": [
      "tensor([[[[2.0693, 3.0728, 2.9835, 3.1723],\n",
      "          [2.6148, 3.5396, 3.7593, 3.9972],\n",
      "          [1.8364, 2.5520, 3.5246, 4.7852],\n",
      "          [3.8588, 3.8588, 4.1166, 3.7142]]]])\n"
     ]
    }
   ],
   "source": [
    "output = F.conv2d(img,kernel,stride = 1,padding=0)\n",
    "print(output)"
   ]
  },
  {
   "cell_type": "code",
   "execution_count": 11,
   "id": "50e3070d",
   "metadata": {},
   "outputs": [
    {
     "name": "stdout",
     "output_type": "stream",
     "text": [
      "torch.Size([1, 1, 4, 4])\n"
     ]
    }
   ],
   "source": [
    "print(output.shape)"
   ]
  },
  {
   "cell_type": "code",
   "execution_count": 12,
   "id": "59267f0e",
   "metadata": {},
   "outputs": [
    {
     "name": "stdout",
     "output_type": "stream",
     "text": [
      "torch.Size([1, 1, 3, 3])\n",
      "9\n"
     ]
    }
   ],
   "source": [
    "parameters = 1\n",
    "print(kernel.shape)\n",
    "for x in kernel.shape:\n",
    "    parameters *= x\n",
    "print(parameters)"
   ]
  },
  {
   "cell_type": "code",
   "execution_count": null,
   "id": "504bad76",
   "metadata": {},
   "outputs": [],
   "source": []
  }
 ],
 "metadata": {
  "kernelspec": {
   "display_name": "Python (env)",
   "language": "python",
   "name": "env"
  },
  "language_info": {
   "codemirror_mode": {
    "name": "ipython",
    "version": 3
   },
   "file_extension": ".py",
   "mimetype": "text/x-python",
   "name": "python",
   "nbconvert_exporter": "python",
   "pygments_lexer": "ipython3",
   "version": "3.12.3"
  }
 },
 "nbformat": 4,
 "nbformat_minor": 5
}
