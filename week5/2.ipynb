{
 "cells": [
  {
   "cell_type": "code",
   "execution_count": 1,
   "id": "1c6c6786",
   "metadata": {},
   "outputs": [],
   "source": [
    "import torch\n",
    "import torch.nn.functional as F"
   ]
  },
  {
   "cell_type": "code",
   "execution_count": 2,
   "id": "dedd6fec",
   "metadata": {},
   "outputs": [],
   "source": [
    "\n",
    "\n",
    "img = torch.rand(6, 6)\n",
    "img = img.unsqueeze(dim = 0).unsqueeze(dim = 0)\n",
    "kernel = torch.ones(3, 3)\n",
    "kernel  = kernel.unsqueeze(dim = 0).unsqueeze(dim = 0)\n",
    "\n"
   ]
  },
  {
   "cell_type": "code",
   "execution_count": 3,
   "id": "de0d66c4",
   "metadata": {},
   "outputs": [],
   "source": [
    "layer = torch.nn.Conv2d(in_channels= 1, out_channels= 3, kernel_size= 3, stride= 1, padding= 0)\n",
    "output = layer(img)"
   ]
  },
  {
   "cell_type": "code",
   "execution_count": 4,
   "id": "bb3f29e1",
   "metadata": {},
   "outputs": [
    {
     "name": "stdout",
     "output_type": "stream",
     "text": [
      "torch.Size([1, 3, 4, 4])\n",
      "tensor([[[[ 0.5602,  0.3227,  0.2147,  0.4921],\n",
      "          [ 0.1103,  0.2981,  0.3522,  0.5463],\n",
      "          [ 0.2727,  0.5361,  0.5232,  0.2128],\n",
      "          [ 0.5562,  0.4890,  0.3313,  0.2094]],\n",
      "\n",
      "         [[-0.0938, -0.0835,  0.0350,  0.2798],\n",
      "          [-0.0530,  0.3331,  0.0731,  0.1681],\n",
      "          [ 0.1134,  0.2675,  0.0105, -0.0669],\n",
      "          [ 0.3931, -0.0060,  0.2067, -0.1073]],\n",
      "\n",
      "         [[ 0.1073,  0.1702,  0.1607, -0.0126],\n",
      "          [-0.0367, -0.2228,  0.1134,  0.0696],\n",
      "          [-0.1898,  0.1791, -0.0627,  0.1113],\n",
      "          [ 0.0220,  0.1034,  0.1138, -0.2372]]]],\n",
      "       grad_fn=<ConvolutionBackward0>)\n"
     ]
    }
   ],
   "source": [
    "print(output.shape)\n",
    "print(output)\n"
   ]
  },
  {
   "cell_type": "code",
   "execution_count": 5,
   "id": "08eb5ca8",
   "metadata": {},
   "outputs": [
    {
     "name": "stdout",
     "output_type": "stream",
     "text": [
      "tensor([[[[4.1630, 4.8177, 4.9279, 5.5479],\n",
      "          [4.8210, 5.0309, 5.6909, 5.2885],\n",
      "          [3.8014, 4.5348, 5.7067, 5.5370],\n",
      "          [4.1777, 5.1228, 5.7316, 5.0014]]]]) torch.Size([1, 1, 4, 4])\n"
     ]
    }
   ],
   "source": [
    "output = F.conv2d(img, kernel, stride= 1, padding= 0)\n",
    "print(output, output.shape)\n"
   ]
  },
  {
   "cell_type": "code",
   "execution_count": null,
   "id": "289babfb",
   "metadata": {},
   "outputs": [],
   "source": []
  }
 ],
 "metadata": {
  "kernelspec": {
   "display_name": "Python (env)",
   "language": "python",
   "name": "env"
  },
  "language_info": {
   "codemirror_mode": {
    "name": "ipython",
    "version": 3
   },
   "file_extension": ".py",
   "mimetype": "text/x-python",
   "name": "python",
   "nbconvert_exporter": "python",
   "pygments_lexer": "ipython3",
   "version": "3.12.3"
  }
 },
 "nbformat": 4,
 "nbformat_minor": 5
}
