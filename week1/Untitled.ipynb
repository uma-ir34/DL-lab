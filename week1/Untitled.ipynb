{
 "cells": [
  {
   "cell_type": "code",
   "execution_count": 24,
   "id": "51bb2c05",
   "metadata": {},
   "outputs": [],
   "source": [
    "import torch\n",
    "import numpy as np"
   ]
  },
  {
   "cell_type": "code",
   "execution_count": 25,
   "id": "9ec47f3f",
   "metadata": {},
   "outputs": [
    {
     "data": {
      "text/plain": [
       "tensor(7)"
      ]
     },
     "execution_count": 25,
     "metadata": {},
     "output_type": "execute_result"
    }
   ],
   "source": [
    "scalar = torch.tensor(7)\n",
    "scalar"
   ]
  },
  {
   "cell_type": "code",
   "execution_count": 26,
   "id": "29bbab2b",
   "metadata": {},
   "outputs": [
    {
     "data": {
      "text/plain": [
       "7"
      ]
     },
     "execution_count": 26,
     "metadata": {},
     "output_type": "execute_result"
    }
   ],
   "source": [
    "scalar.item()"
   ]
  },
  {
   "cell_type": "code",
   "execution_count": 27,
   "id": "4c332eb5",
   "metadata": {},
   "outputs": [
    {
     "data": {
      "text/plain": [
       "tensor([7, 7])"
      ]
     },
     "execution_count": 27,
     "metadata": {},
     "output_type": "execute_result"
    }
   ],
   "source": [
    "vector = torch.tensor([7,7])\n",
    "vector"
   ]
  },
  {
   "cell_type": "code",
   "execution_count": 28,
   "id": "874d471f",
   "metadata": {},
   "outputs": [],
   "source": [
    "random_tensor = torch.rand(size=(3,4))"
   ]
  },
  {
   "cell_type": "code",
   "execution_count": 29,
   "id": "2e9fc7e7",
   "metadata": {},
   "outputs": [
    {
     "data": {
      "text/plain": [
       "tensor([[0.0914, 0.8994, 0.9936, 0.4703],\n",
       "        [0.1049, 0.5137, 0.2674, 0.4990],\n",
       "        [0.7447, 0.7213, 0.4414, 0.5550]])"
      ]
     },
     "execution_count": 29,
     "metadata": {},
     "output_type": "execute_result"
    }
   ],
   "source": [
    "random_tensor"
   ]
  },
  {
   "cell_type": "code",
   "execution_count": 30,
   "id": "f6e550d9",
   "metadata": {},
   "outputs": [
    {
     "data": {
      "text/plain": [
       "tensor([[0., 0., 0., 0.],\n",
       "        [0., 0., 0., 0.],\n",
       "        [0., 0., 0., 0.]])"
      ]
     },
     "execution_count": 30,
     "metadata": {},
     "output_type": "execute_result"
    }
   ],
   "source": [
    "zeros=torch.zeros(size=(3,4))\n",
    "zeros"
   ]
  },
  {
   "cell_type": "markdown",
   "id": "a9e47e1e",
   "metadata": {},
   "source": [
    "questions"
   ]
  },
  {
   "cell_type": "code",
   "execution_count": 31,
   "id": "26607874",
   "metadata": {},
   "outputs": [
    {
     "name": "stdout",
     "output_type": "stream",
     "text": [
      "Original Tensor: tensor([[[[0.5349, 0.1988, 0.6592, 0.6569, 0.2328, 0.4251, 0.2071, 0.6297,\n",
      "           0.3653, 0.8513]]]])\n",
      "Original Shape: torch.Size([1, 1, 1, 10])\n",
      "Squeezed Tensor: tensor([0.5349, 0.1988, 0.6592, 0.6569, 0.2328, 0.4251, 0.2071, 0.6297, 0.3653,\n",
      "        0.8513])\n",
      "Squeezed Shape: torch.Size([10])\n"
     ]
    }
   ],
   "source": [
    "torch.manual_seed(7)\n",
    "\n",
    "# Creating a random tensor with shape (1, 1, 1, 10)\n",
    "tensor = torch.rand(1, 1, 1, 10)\n",
    "\n",
    "# Removing all dimensions of size 1\n",
    "tensor_squeezed = tensor.squeeze()\n",
    "\n",
    "print(\"Original Tensor:\", tensor)\n",
    "print(\"Original Shape:\", tensor.shape)\n",
    "print(\"Squeezed Tensor:\", tensor_squeezed)\n",
    "print(\"Squeezed Shape:\", tensor_squeezed.shape)\n"
   ]
  },
  {
   "cell_type": "code",
   "execution_count": 32,
   "id": "c0aa1ab8",
   "metadata": {},
   "outputs": [
    {
     "name": "stdout",
     "output_type": "stream",
     "text": [
      "Original shape: torch.Size([3, 2, 4])\n",
      "Permuted shape: torch.Size([2, 3, 4])\n"
     ]
    }
   ],
   "source": [
    "# Creating a tensor of shape (3, 2, 4)\n",
    "tensor = torch.randn(3, 2, 4)\n",
    "\n",
    "# Permuting dimensions (0 <-> 1)\n",
    "permuted_tensor = tensor.permute(1, 0, 2)\n",
    "\n",
    "print(\"Original shape:\", tensor.shape)\n",
    "print(\"Permuted shape:\", permuted_tensor.shape)\n"
   ]
  },
  {
   "cell_type": "code",
   "execution_count": 33,
   "id": "ad9e15ee",
   "metadata": {},
   "outputs": [
    {
     "name": "stdout",
     "output_type": "stream",
     "text": [
      "Single element: tensor(6)\n",
      "Row: tensor([4, 5, 6])\n",
      "Column: tensor([3, 6, 9])\n"
     ]
    }
   ],
   "source": [
    "tensor = torch.tensor([[1, 2, 3], [4, 5, 6], [7, 8, 9]])\n",
    "\n",
    "# Indexing a single element\n",
    "element = tensor[1, 2]  # Accessing element at row 1, column 2\n",
    "\n",
    "# Slicing a row\n",
    "row = tensor[1, :]  # Accessing the second row\n",
    "\n",
    "# Slicing a column\n",
    "column = tensor[:, 2]  # Accessing the third column\n",
    "\n",
    "print(\"Single element:\", element)\n",
    "print(\"Row:\", row)\n",
    "print(\"Column:\", column)\n"
   ]
  },
  {
   "cell_type": "code",
   "execution_count": 38,
   "id": "4e06aa60",
   "metadata": {},
   "outputs": [
    {
     "name": "stdout",
     "output_type": "stream",
     "text": [
      "Random Tensor: tensor([[0.0914, 0.8994, 0.9936, 0.4703, 0.1049, 0.5137, 0.2674],\n",
      "        [0.4990, 0.7447, 0.7213, 0.4414, 0.5550, 0.6361, 0.1081],\n",
      "        [0.3305, 0.5196, 0.2147, 0.2816, 0.6679, 0.7878, 0.5070],\n",
      "        [0.3055, 0.7738, 0.2259, 0.3826, 0.9717, 0.5921, 0.5352],\n",
      "        [0.6686, 0.3781, 0.9278, 0.0922, 0.3625, 0.4136, 0.2943],\n",
      "        [0.3762, 0.8099, 0.7743, 0.5278, 0.9356, 0.1470, 0.2019],\n",
      "        [0.7259, 0.4731, 0.0444, 0.1539, 0.1956, 0.8861, 0.7264]])\n"
     ]
    }
   ],
   "source": [
    "tensor = torch.rand(7, 7)\n",
    "print(\"Random Tensor:\", tensor)\n"
   ]
  },
  {
   "cell_type": "code",
   "execution_count": 39,
   "id": "a3bccb36",
   "metadata": {},
   "outputs": [
    {
     "name": "stdout",
     "output_type": "stream",
     "text": [
      "Matrix Multiplication Result: tensor([[1.3633],\n",
      "        [2.2300],\n",
      "        [1.5501],\n",
      "        [1.3476],\n",
      "        [1.5483],\n",
      "        [1.9873],\n",
      "        [1.8573]])\n"
     ]
    }
   ],
   "source": [
    "tensor1 = torch.rand(7, 7)\n",
    "tensor2 = torch.rand(1, 7).T  # Transposing to shape (7, 1)\n",
    "\n",
    "result = torch.matmul(tensor1, tensor2)\n",
    "print(\"Matrix Multiplication Result:\", result)\n"
   ]
  },
  {
   "cell_type": "code",
   "execution_count": 40,
   "id": "ec7a0e22",
   "metadata": {},
   "outputs": [
    {
     "name": "stdout",
     "output_type": "stream",
     "text": [
      "Tensor 1 on GPU: tensor([[0.4924, 0.0531, 0.6775],\n",
      "        [0.9072, 0.1691, 0.3684]], device='cuda:0')\n",
      "Tensor 2 on GPU: tensor([[0.5421, 0.2149, 0.0364],\n",
      "        [0.7189, 0.0897, 0.3745]], device='cuda:0')\n"
     ]
    }
   ],
   "source": [
    "# Check for GPU availability\n",
    "device = 'cuda' if torch.cuda.is_available() else 'cpu'\n",
    "\n",
    "tensor1 = torch.rand(2, 3).to(device)\n",
    "tensor2 = torch.rand(2, 3).to(device)\n",
    "\n",
    "print(\"Tensor 1 on GPU:\", tensor1)\n",
    "print(\"Tensor 2 on GPU:\", tensor2)\n"
   ]
  },
  {
   "cell_type": "code",
   "execution_count": 41,
   "id": "c57a1c2d",
   "metadata": {},
   "outputs": [
    {
     "name": "stdout",
     "output_type": "stream",
     "text": [
      "Matrix Multiplication Result on GPU: tensor([[0.3030, 0.6125],\n",
      "        [0.5415, 0.8053]], device='cuda:0')\n"
     ]
    }
   ],
   "source": [
    "# Transposing tensor2 to match dimensions for multiplication\n",
    "tensor2_T = tensor2.T\n",
    "result_gpu = torch.matmul(tensor1, tensor2_T)\n",
    "\n",
    "print(\"Matrix Multiplication Result on GPU:\", result_gpu)\n"
   ]
  },
  {
   "cell_type": "code",
   "execution_count": 42,
   "id": "fa039a61",
   "metadata": {},
   "outputs": [
    {
     "name": "stdout",
     "output_type": "stream",
     "text": [
      "Maximum Value: 0.8053197264671326\n",
      "Minimum Value: 0.3029695451259613\n"
     ]
    }
   ],
   "source": [
    "max_value = result_gpu.max().item()\n",
    "min_value = result_gpu.min().item()\n",
    "\n",
    "print(\"Maximum Value:\", max_value)\n",
    "print(\"Minimum Value:\", min_value)\n"
   ]
  },
  {
   "cell_type": "code",
   "execution_count": 43,
   "id": "dbb882be",
   "metadata": {},
   "outputs": [
    {
     "name": "stdout",
     "output_type": "stream",
     "text": [
      "Index of Maximum Value: 3\n",
      "Index of Minimum Value: 0\n"
     ]
    }
   ],
   "source": [
    "max_index = result_gpu.argmax().item()\n",
    "min_index = result_gpu.argmin().item()\n",
    "\n",
    "print(\"Index of Maximum Value:\", max_index)\n",
    "print(\"Index of Minimum Value:\", min_index)\n"
   ]
  },
  {
   "cell_type": "code",
   "execution_count": 44,
   "id": "31f4cbe6",
   "metadata": {},
   "outputs": [
    {
     "name": "stdout",
     "output_type": "stream",
     "text": [
      "Original Tensor: tensor([[[[0.5349, 0.1988, 0.6592, 0.6569, 0.2328, 0.4251, 0.2071, 0.6297,\n",
      "           0.3653, 0.8513]]]])\n",
      "Original Shape: torch.Size([1, 1, 1, 10])\n",
      "Squeezed Tensor: tensor([0.5349, 0.1988, 0.6592, 0.6569, 0.2328, 0.4251, 0.2071, 0.6297, 0.3653,\n",
      "        0.8513])\n",
      "Squeezed Shape: torch.Size([10])\n"
     ]
    }
   ],
   "source": [
    "torch.manual_seed(7)\n",
    "\n",
    "# Creating a random tensor with shape (1, 1, 1, 10)\n",
    "tensor = torch.rand(1, 1, 1, 10)\n",
    "\n",
    "# Removing all dimensions of size 1\n",
    "tensor_squeezed = tensor.squeeze()\n",
    "\n",
    "print(\"Original Tensor:\", tensor)\n",
    "print(\"Original Shape:\", tensor.shape)\n",
    "print(\"Squeezed Tensor:\", tensor_squeezed)\n",
    "print(\"Squeezed Shape:\", tensor_squeezed.shape)\n"
   ]
  },
  {
   "cell_type": "code",
   "execution_count": 45,
   "id": "a20bbdc4",
   "metadata": {},
   "outputs": [
    {
     "name": "stdout",
     "output_type": "stream",
     "text": [
      "2.2.1\n"
     ]
    }
   ],
   "source": [
    "import numpy as np\n",
    "print(np.__version__)\n"
   ]
  },
  {
   "cell_type": "code",
   "execution_count": null,
   "id": "8e4184ec",
   "metadata": {},
   "outputs": [],
   "source": []
  }
 ],
 "metadata": {
  "kernelspec": {
   "display_name": "Python (env)",
   "language": "python",
   "name": "env"
  },
  "language_info": {
   "codemirror_mode": {
    "name": "ipython",
    "version": 3
   },
   "file_extension": ".py",
   "mimetype": "text/x-python",
   "name": "python",
   "nbconvert_exporter": "python",
   "pygments_lexer": "ipython3",
   "version": "3.12.3"
  }
 },
 "nbformat": 4,
 "nbformat_minor": 5
}
